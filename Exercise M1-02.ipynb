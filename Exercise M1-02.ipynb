{
 "cells": [
  {
   "cell_type": "code",
   "execution_count": 1,
   "id": "41e3cb99-9d56-46aa-8638-0cdafd448539",
   "metadata": {},
   "outputs": [],
   "source": [
    "import pandas as pd\n",
    "from scipy import io\n",
    "import numpy as np"
   ]
  },
  {
   "cell_type": "code",
   "execution_count": 2,
   "id": "8f6fa15d-30d1-4a72-a2f4-85ca50534b2f",
   "metadata": {},
   "outputs": [],
   "source": [
    "arff_file = io.arff.loadarff('phpMawTba.arff')"
   ]
  },
  {
   "cell_type": "code",
   "execution_count": 3,
   "id": "b68e16b8-7176-469b-86b1-b4b86ce1bbe2",
   "metadata": {},
   "outputs": [],
   "source": [
    "adult_census = pd.DataFrame(arff_file[0])\n",
    "\n",
    "# convert bytes columns to strings\n",
    "\n",
    "str_df = adult_census.select_dtypes([object])\n",
    "str_df = str_df.stack().str.decode('utf-8').unstack()\n",
    "\n",
    "for col in str_df:\n",
    "    adult_census[col] = str_df[col]"
   ]
  },
  {
   "cell_type": "code",
   "execution_count": 4,
   "id": "4a0f8ed6-a8c6-4649-a598-5adf194cd5f3",
   "metadata": {},
   "outputs": [],
   "source": [
    "#select only numerical columns to fit model + target\n",
    "adult_census_num = adult_census[['age', 'capital-gain','capital-loss','hours-per-week', 'class']]"
   ]
  },
  {
   "cell_type": "code",
   "execution_count": 5,
   "id": "f88f96be-081a-4470-9982-b6c79ada7968",
   "metadata": {},
   "outputs": [],
   "source": [
    "#create training and test set, number chosen based on in class notebook\n",
    "data = adult_census_num.sample(n = 39073)\n",
    "outer = adult_census_num.merge(data, how = 'outer', indicator = True)\n",
    "test = outer[(outer._merge=='left_only')].drop('_merge', axis = 1)"
   ]
  },
  {
   "cell_type": "code",
   "execution_count": 6,
   "id": "e05cb5f1-cfaa-4940-8eb5-0d0a951a380b",
   "metadata": {},
   "outputs": [
    {
     "data": {
      "text/plain": [
       "36958    <=50K\n",
       "21845    <=50K\n",
       "24778     >50K\n",
       "43814    <=50K\n",
       "11235     >50K\n",
       "         ...  \n",
       "34081    <=50K\n",
       "23156    <=50K\n",
       "14426     >50K\n",
       "87        >50K\n",
       "26736     >50K\n",
       "Name: class, Length: 39073, dtype: object"
      ]
     },
     "execution_count": 6,
     "metadata": {},
     "output_type": "execute_result"
    }
   ],
   "source": [
    "target_name = \"class\"\n",
    "target = data[target_name]\n",
    "target"
   ]
  },
  {
   "cell_type": "code",
   "execution_count": 7,
   "id": "e60691bd-b0d6-46be-97b2-33ea5c37a7b5",
   "metadata": {},
   "outputs": [
    {
     "data": {
      "text/html": [
       "<div>\n",
       "<style scoped>\n",
       "    .dataframe tbody tr th:only-of-type {\n",
       "        vertical-align: middle;\n",
       "    }\n",
       "\n",
       "    .dataframe tbody tr th {\n",
       "        vertical-align: top;\n",
       "    }\n",
       "\n",
       "    .dataframe thead th {\n",
       "        text-align: right;\n",
       "    }\n",
       "</style>\n",
       "<table border=\"1\" class=\"dataframe\">\n",
       "  <thead>\n",
       "    <tr style=\"text-align: right;\">\n",
       "      <th></th>\n",
       "      <th>age</th>\n",
       "      <th>capital-gain</th>\n",
       "      <th>capital-loss</th>\n",
       "      <th>hours-per-week</th>\n",
       "    </tr>\n",
       "  </thead>\n",
       "  <tbody>\n",
       "    <tr>\n",
       "      <th>36958</th>\n",
       "      <td>24.0</td>\n",
       "      <td>0.0</td>\n",
       "      <td>0.0</td>\n",
       "      <td>17.0</td>\n",
       "    </tr>\n",
       "    <tr>\n",
       "      <th>21845</th>\n",
       "      <td>46.0</td>\n",
       "      <td>0.0</td>\n",
       "      <td>0.0</td>\n",
       "      <td>40.0</td>\n",
       "    </tr>\n",
       "    <tr>\n",
       "      <th>24778</th>\n",
       "      <td>35.0</td>\n",
       "      <td>0.0</td>\n",
       "      <td>0.0</td>\n",
       "      <td>40.0</td>\n",
       "    </tr>\n",
       "    <tr>\n",
       "      <th>43814</th>\n",
       "      <td>23.0</td>\n",
       "      <td>0.0</td>\n",
       "      <td>0.0</td>\n",
       "      <td>50.0</td>\n",
       "    </tr>\n",
       "    <tr>\n",
       "      <th>11235</th>\n",
       "      <td>36.0</td>\n",
       "      <td>0.0</td>\n",
       "      <td>0.0</td>\n",
       "      <td>40.0</td>\n",
       "    </tr>\n",
       "  </tbody>\n",
       "</table>\n",
       "</div>"
      ],
      "text/plain": [
       "        age  capital-gain  capital-loss  hours-per-week\n",
       "36958  24.0           0.0           0.0            17.0\n",
       "21845  46.0           0.0           0.0            40.0\n",
       "24778  35.0           0.0           0.0            40.0\n",
       "43814  23.0           0.0           0.0            50.0\n",
       "11235  36.0           0.0           0.0            40.0"
      ]
     },
     "execution_count": 7,
     "metadata": {},
     "output_type": "execute_result"
    }
   ],
   "source": [
    "data = data.drop(columns = [target_name])\n",
    "data.head()"
   ]
  },
  {
   "cell_type": "code",
   "execution_count": 8,
   "id": "ad04a014-9c4b-467f-81d7-c979369dfff6",
   "metadata": {},
   "outputs": [],
   "source": [
    "from sklearn.neighbors import KNeighborsClassifier"
   ]
  },
  {
   "cell_type": "code",
   "execution_count": 9,
   "id": "10775dad-c966-408e-9482-5369c3114ed5",
   "metadata": {},
   "outputs": [],
   "source": [
    "model = KNeighborsClassifier(n_neighbors = 50)"
   ]
  },
  {
   "cell_type": "code",
   "execution_count": 10,
   "id": "b9503e04-d019-4dc1-b4c0-0209d596c234",
   "metadata": {},
   "outputs": [],
   "source": [
    "_ = model.fit(data, target)"
   ]
  },
  {
   "cell_type": "code",
   "execution_count": 11,
   "id": "dcfb7979-9294-4ff5-89ad-3a8f5d613158",
   "metadata": {},
   "outputs": [],
   "source": [
    "target_predicted = model.predict(data)"
   ]
  },
  {
   "cell_type": "code",
   "execution_count": 12,
   "id": "290c1db8-056a-4b1a-8484-e0d7fc56c371",
   "metadata": {},
   "outputs": [
    {
     "data": {
      "text/plain": [
       "36958     True\n",
       "21845     True\n",
       "24778    False\n",
       "43814     True\n",
       "11235    False\n",
       "844       True\n",
       "22891     True\n",
       "2655      True\n",
       "33884     True\n",
       "39145     True\n",
       "Name: class, dtype: bool"
      ]
     },
     "execution_count": 12,
     "metadata": {},
     "output_type": "execute_result"
    }
   ],
   "source": [
    "target[:10] == target_predicted[:10]"
   ]
  },
  {
   "cell_type": "code",
   "execution_count": 13,
   "id": "e0c64cfd-3891-4160-ae62-53f799c9042b",
   "metadata": {},
   "outputs": [
    {
     "name": "stdout",
     "output_type": "stream",
     "text": [
      "The training accuracy using a KNeighborsClassifier is 0.827\n"
     ]
    }
   ],
   "source": [
    "accuracy = model.score(data, target)\n",
    "model_name = model.__class__.__name__\n",
    "\n",
    "print(f\"The training accuracy using a {model_name} is {accuracy:.3f}\")"
   ]
  },
  {
   "cell_type": "code",
   "execution_count": 14,
   "id": "459a07c0-bf75-4296-83b2-3bde19aa052f",
   "metadata": {},
   "outputs": [],
   "source": [
    "#set up test data\n",
    "target_test = test[target_name]\n",
    "test = test.drop(columns = [target_name])"
   ]
  },
  {
   "cell_type": "code",
   "execution_count": 15,
   "id": "8f49ab94-f339-4047-b7d7-6c609ea2aae1",
   "metadata": {},
   "outputs": [
    {
     "name": "stdout",
     "output_type": "stream",
     "text": [
      "The test accuracy using a KNeighborsClassifier is 0.824\n"
     ]
    }
   ],
   "source": [
    "accuracy = model.score(test, target_test)\n",
    "print(f\"The test accuracy using a {model_name} is {accuracy:.3f}\")"
   ]
  }
 ],
 "metadata": {
  "kernelspec": {
   "display_name": "Python 3 (ipykernel)",
   "language": "python",
   "name": "python3"
  },
  "language_info": {
   "codemirror_mode": {
    "name": "ipython",
    "version": 3
   },
   "file_extension": ".py",
   "mimetype": "text/x-python",
   "name": "python",
   "nbconvert_exporter": "python",
   "pygments_lexer": "ipython3",
   "version": "3.12.4"
  }
 },
 "nbformat": 4,
 "nbformat_minor": 5
}
