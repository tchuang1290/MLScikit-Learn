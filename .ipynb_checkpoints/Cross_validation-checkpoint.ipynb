{
 "cells": [
  {
   "cell_type": "code",
   "execution_count": 1,
   "id": "18c38a76-131a-4e22-bf3c-5edfbda31f1a",
   "metadata": {},
   "outputs": [],
   "source": [
    "import pandas as pd\n",
    "from scipy import io\n",
    "import numpy as np"
   ]
  },
  {
   "cell_type": "code",
   "execution_count": 2,
   "id": "94b04c5a-37b7-4fc4-aec1-643e86e467d7",
   "metadata": {},
   "outputs": [],
   "source": [
    "arff_file = io.arff.loadarff('phpMawTba.arff')"
   ]
  },
  {
   "cell_type": "code",
   "execution_count": 3,
   "id": "077f4f01-cefa-449d-995e-e1eeeafcc9a0",
   "metadata": {},
   "outputs": [],
   "source": [
    "adult_census = pd.DataFrame(arff_file[0])\n",
    "\n",
    "# convert bytes columns to strings\n",
    "\n",
    "str_df = adult_census.select_dtypes([object])\n",
    "str_df = str_df.stack().str.decode('utf-8').unstack()\n",
    "\n",
    "for col in str_df:\n",
    "    adult_census[col] = str_df[col]"
   ]
  },
  {
   "cell_type": "code",
   "execution_count": 4,
   "id": "b9ee7a28-0844-44f8-a1bf-a0472043dea8",
   "metadata": {},
   "outputs": [],
   "source": [
    "target_name = \"class\"\n",
    "target = adult_census[target_name]\n",
    "data = adult_census.drop(columns = target_name)"
   ]
  },
  {
   "cell_type": "code",
   "execution_count": 6,
   "id": "cfba275f-c4c5-4736-8df5-5f4be18b4c51",
   "metadata": {},
   "outputs": [],
   "source": [
    "numerical_columns = [\"age\", \"capital-gain\", \"capital-loss\", \"hours-per-week\"]\n",
    "data_numeric = data[numerical_columns]"
   ]
  },
  {
   "cell_type": "code",
   "execution_count": 7,
   "id": "88d29752-5d8f-4fc2-b8e6-25359780fc2a",
   "metadata": {},
   "outputs": [],
   "source": [
    "from sklearn.preprocessing import StandardScaler\n",
    "from sklearn.linear_model import LogisticRegression\n",
    "from sklearn.pipeline import make_pipeline\n",
    "\n",
    "model = make_pipeline(StandardScaler(), LogisticRegression())"
   ]
  },
  {
   "cell_type": "code",
   "execution_count": 9,
   "id": "f0d12bcd-96cb-4a02-9429-a2374d4be7ca",
   "metadata": {},
   "outputs": [
    {
     "name": "stdout",
     "output_type": "stream",
     "text": [
      "CPU times: user 2.34 s, sys: 1.16 s, total: 3.5 s\n",
      "Wall time: 407 ms\n"
     ]
    },
    {
     "data": {
      "text/plain": [
       "{'fit_time': array([0.04506993, 0.05785584, 0.05371785, 0.05111814, 0.05001092]),\n",
       " 'score_time': array([0.00928092, 0.01287007, 0.01505923, 0.01477289, 0.01425004]),\n",
       " 'test_score': array([0.79557785, 0.80049135, 0.79965192, 0.79873055, 0.80456593])}"
      ]
     },
     "execution_count": 9,
     "metadata": {},
     "output_type": "execute_result"
    }
   ],
   "source": [
    "%%time\n",
    "from sklearn.model_selection import cross_validate\n",
    "\n",
    "model = make_pipeline(StandardScaler(), LogisticRegression())\n",
    "cv_result = cross_validate(model, data_numeric, target, cv = 5)\n",
    "cv_result"
   ]
  },
  {
   "cell_type": "code",
   "execution_count": 10,
   "id": "3a146d7c-eb06-4adc-97c5-155478ff4f26",
   "metadata": {},
   "outputs": [
    {
     "name": "stdout",
     "output_type": "stream",
     "text": [
      "The mean cross-validation accuracy is: 0.800 ± 0.003\n"
     ]
    }
   ],
   "source": [
    "scores = cv_result[\"test_score\"]\n",
    "print(\n",
    "    \"The mean cross-validation accuracy is: \"\n",
    "    f\"{scores.mean():.3f} ± {scores.std():.3f}\"\n",
    ")"
   ]
  }
 ],
 "metadata": {
  "kernelspec": {
   "display_name": "Python 3 (ipykernel)",
   "language": "python",
   "name": "python3"
  },
  "language_info": {
   "codemirror_mode": {
    "name": "ipython",
    "version": 3
   },
   "file_extension": ".py",
   "mimetype": "text/x-python",
   "name": "python",
   "nbconvert_exporter": "python",
   "pygments_lexer": "ipython3",
   "version": "3.12.4"
  }
 },
 "nbformat": 4,
 "nbformat_minor": 5
}
