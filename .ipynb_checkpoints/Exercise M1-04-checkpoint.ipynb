{
 "cells": [
  {
   "cell_type": "code",
   "execution_count": 1,
   "id": "b1a06e2c-828b-42c7-84c4-72aaf49c5bf1",
   "metadata": {},
   "outputs": [],
   "source": [
    "import pandas as pd\n",
    "from scipy import io\n",
    "import numpy as np"
   ]
  },
  {
   "cell_type": "code",
   "execution_count": 2,
   "id": "d90b105d-6e2e-4555-8d8d-39b38c4d659c",
   "metadata": {},
   "outputs": [],
   "source": [
    "arff_file = io.arff.loadarff('phpMawTba.arff')"
   ]
  },
  {
   "cell_type": "code",
   "execution_count": 3,
   "id": "52981215-2217-40ed-8843-bffda02eff0a",
   "metadata": {},
   "outputs": [],
   "source": [
    "adult_census = pd.DataFrame(arff_file[0])\n",
    "\n",
    "# convert bytes columns to strings\n",
    "\n",
    "str_df = adult_census.select_dtypes([object])\n",
    "str_df = str_df.stack().str.decode('utf-8').unstack()\n",
    "\n",
    "for col in str_df:\n",
    "    adult_census[col] = str_df[col]"
   ]
  },
  {
   "cell_type": "code",
   "execution_count": 5,
   "id": "7d3d354a-8b26-403d-96cc-7cf40c646bcb",
   "metadata": {},
   "outputs": [],
   "source": [
    "target_name = \"class\"\n",
    "target = adult_census[target_name]\n",
    "data = adult_census.drop(columns = [target_name, \"education-num\"])"
   ]
  },
  {
   "cell_type": "code",
   "execution_count": 6,
   "id": "ed60b374-4aa5-4396-a8d6-7f18df8d4d6c",
   "metadata": {},
   "outputs": [],
   "source": [
    "from sklearn.compose import make_column_selector as selector\n",
    "\n",
    "categorical_columns_selector = selector(dtype_include = object)\n",
    "categorical_columns = categorical_columns_selector(data)\n",
    "data_categorical = data[categorical_columns]"
   ]
  },
  {
   "cell_type": "code",
   "execution_count": 16,
   "id": "5e89d36c-55cf-4062-99de-9587fddba9bc",
   "metadata": {},
   "outputs": [],
   "source": [
    "from sklearn.pipeline import make_pipeline\n",
    "from sklearn.preprocessing import OrdinalEncoder\n",
    "from sklearn.linear_model import LogisticRegression\n",
    "\n",
    "model = make_pipeline(\n",
    "    OrdinalEncoder(handle_unknown = \"use_encoded_value\", unknown_value = -1), LogisticRegression(max_iter = 500)\n",
    ")"
   ]
  },
  {
   "cell_type": "code",
   "execution_count": 17,
   "id": "bc6d51b8-2800-4b13-8517-fbab0afae78a",
   "metadata": {},
   "outputs": [
    {
     "name": "stdout",
     "output_type": "stream",
     "text": [
      "The accuracy is: 0.755 ± 0.002\n"
     ]
    }
   ],
   "source": [
    "from sklearn.model_selection import cross_validate\n",
    "\n",
    "cv_results = cross_validate(model, data_categorical, target, error_score = \"raise\")\n",
    "scores = cv_results[\"test_score\"]\n",
    "print(f\"The accuracy is: {scores.mean():.3f} ± {scores.std():.3f}\")"
   ]
  },
  {
   "cell_type": "code",
   "execution_count": 19,
   "id": "3029a81c-c37e-4ee8-8eb4-f3529d147d91",
   "metadata": {},
   "outputs": [
    {
     "name": "stdout",
     "output_type": "stream",
     "text": [
      "The accuracy is: 0.833 ± 0.003\n"
     ]
    }
   ],
   "source": [
    "from sklearn.preprocessing import OneHotEncoder\n",
    "\n",
    "model = make_pipeline(\n",
    "    OneHotEncoder(handle_unknown = \"ignore\"), LogisticRegression(max_iter = 500)\n",
    ")\n",
    "cv_results = cross_validate(model, data_categorical, target, error_score = \"raise\")\n",
    "scores = cv_results[\"test_score\"]\n",
    "print(f\"The accuracy is: {scores.mean():.3f} ± {scores.std():.3f}\")"
   ]
  },
  {
   "cell_type": "markdown",
   "id": "286d8a53-d3e6-4f5f-bca1-d491be374e82",
   "metadata": {},
   "source": [
    "We get a higher score using the OneHotEncoder over the OrdinalEncoder. This means using an encoder that assumes an order in categories leads to a worse result. We should only use OrdinalEncoder with linear models when the categorical features have a specific ordering."
   ]
  }
 ],
 "metadata": {
  "kernelspec": {
   "display_name": "Python 3 (ipykernel)",
   "language": "python",
   "name": "python3"
  },
  "language_info": {
   "codemirror_mode": {
    "name": "ipython",
    "version": 3
   },
   "file_extension": ".py",
   "mimetype": "text/x-python",
   "name": "python",
   "nbconvert_exporter": "python",
   "pygments_lexer": "ipython3",
   "version": "3.12.4"
  }
 },
 "nbformat": 4,
 "nbformat_minor": 5
}
